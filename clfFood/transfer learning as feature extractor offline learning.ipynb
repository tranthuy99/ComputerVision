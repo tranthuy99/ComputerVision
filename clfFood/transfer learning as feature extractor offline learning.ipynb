{
 "cells": [
  {
   "cell_type": "markdown",
   "id": "d1d65d6b",
   "metadata": {},
   "source": [
    "CNN là mạng phi tuyến có khả năng học các đặc trưng phi tuyến, giả sử là các đặc trưng mạnh và độc. bản thân CNN không có khả năng phân lớp."
   ]
  },
  {
   "cell_type": "code",
   "execution_count": 1,
   "id": "eff0b593",
   "metadata": {},
   "outputs": [],
   "source": [
    "import os"
   ]
  },
  {
   "cell_type": "code",
   "execution_count": 2,
   "id": "518276d0",
   "metadata": {},
   "outputs": [],
   "source": [
    "ORIG_INPUT_DATASET = 'Food-5K'\n",
    "BASE_PATH = 'dataset'\n",
    "TRAIN = 'training'\n",
    "TEST = 'evaluation'\n",
    "VAL = 'validation'\n",
    "\n",
    "CLASSES = ['non_food', 'food']\n",
    "BATCH_SIZE = 16\n",
    "\n",
    "LE_PATH = os.path.join('output', 'le.cpickle')\n",
    "BASE_CSV_PATH = 'output'\n",
    "\n",
    "MODEL_PATH = os.path.join('output', 'model.cpickle')"
   ]
  },
  {
   "cell_type": "markdown",
   "id": "8a373b85",
   "metadata": {},
   "source": [
    "# Building dataset for feature extraction"
   ]
  },
  {
   "cell_type": "code",
   "execution_count": 3,
   "id": "cde91fd4",
   "metadata": {},
   "outputs": [
    {
     "name": "stdout",
     "output_type": "stream",
     "text": [
      "[INFO] processing training split ...\n",
      "[INFO] processing evaluation split ...\n",
      "[INFO] processing validation split ...\n"
     ]
    }
   ],
   "source": [
    "# from imutils import paths\n",
    "import shutil\n",
    "import os\n",
    " \n",
    "for tp in (TRAIN, TEST, VAL):\n",
    "    print(f'[INFO] processing {tp} split ...')\n",
    "    p = os.path.join(ORIG_INPUT_DATASET, tp)\n",
    "    imagePaths = [os.path.join(p, f) for f in os.listdir(p)]\n",
    "    for path in imagePaths:\n",
    "        fileName = path.split(os.path.sep)[-1]\n",
    "        label = CLASSES[int(fileName.split('_')[0])]\n",
    "        dirPath = os.path.join(BASE_PATH, tp, label)\n",
    "        if not os.path.exists(dirPath):\n",
    "            os.makedirs(dirPath)\n",
    "        p = os.path.join(dirPath, fileName)\n",
    "        shutil.copy2(path, p)"
   ]
  },
  {
   "cell_type": "markdown",
   "id": "c1923591",
   "metadata": {},
   "source": [
    "# extract feature"
   ]
  },
  {
   "cell_type": "code",
   "execution_count": 4,
   "id": "f577a6cf",
   "metadata": {},
   "outputs": [],
   "source": [
    "from sklearn.preprocessing import LabelEncoder\n",
    "from tensorflow.keras.applications import VGG16\n",
    "from tensorflow.keras.applications.vgg16 import preprocess_input\n",
    "from tensorflow.keras.preprocessing.image import img_to_array, load_img\n",
    "import numpy as np\n",
    "import pickle\n",
    "import random"
   ]
  },
  {
   "cell_type": "code",
   "execution_count": 5,
   "id": "d1de51d9",
   "metadata": {},
   "outputs": [],
   "source": [
    "model = VGG16(weights='imagenet', include_top=False)"
   ]
  },
  {
   "cell_type": "code",
   "execution_count": 6,
   "id": "70b283ef",
   "metadata": {},
   "outputs": [],
   "source": [
    "le = None"
   ]
  },
  {
   "cell_type": "code",
   "execution_count": 8,
   "id": "63d3534f",
   "metadata": {
    "scrolled": true
   },
   "outputs": [
    {
     "name": "stdout",
     "output_type": "stream",
     "text": [
      "[INFO] preprocessing training split...\n",
      "[INFO] processing batch 1/188\n",
      "[INFO] processing batch 2/188\n",
      "[INFO] processing batch 3/188\n",
      "[INFO] processing batch 4/188\n",
      "[INFO] processing batch 5/188\n",
      "[INFO] processing batch 6/188\n",
      "[INFO] processing batch 7/188\n",
      "[INFO] processing batch 8/188\n",
      "[INFO] processing batch 9/188\n",
      "[INFO] processing batch 10/188\n",
      "[INFO] processing batch 11/188\n",
      "[INFO] processing batch 12/188\n",
      "[INFO] processing batch 13/188\n",
      "[INFO] processing batch 14/188\n",
      "[INFO] processing batch 15/188\n",
      "[INFO] processing batch 16/188\n",
      "[INFO] processing batch 17/188\n",
      "[INFO] processing batch 18/188\n",
      "[INFO] processing batch 19/188\n",
      "[INFO] processing batch 20/188\n",
      "[INFO] processing batch 21/188\n",
      "[INFO] processing batch 22/188\n",
      "[INFO] processing batch 23/188\n",
      "[INFO] processing batch 24/188\n",
      "[INFO] processing batch 25/188\n",
      "[INFO] processing batch 26/188\n",
      "[INFO] processing batch 27/188\n",
      "[INFO] processing batch 28/188\n",
      "[INFO] processing batch 29/188\n",
      "[INFO] processing batch 30/188\n",
      "[INFO] processing batch 31/188\n",
      "[INFO] processing batch 32/188\n",
      "[INFO] processing batch 33/188\n",
      "[INFO] processing batch 34/188\n",
      "[INFO] processing batch 35/188\n",
      "[INFO] processing batch 36/188\n",
      "[INFO] processing batch 37/188\n",
      "[INFO] processing batch 38/188\n",
      "[INFO] processing batch 39/188\n",
      "[INFO] processing batch 40/188\n",
      "[INFO] processing batch 41/188\n",
      "[INFO] processing batch 42/188\n",
      "[INFO] processing batch 43/188\n",
      "[INFO] processing batch 44/188\n",
      "[INFO] processing batch 45/188\n",
      "[INFO] processing batch 46/188\n",
      "[INFO] processing batch 47/188\n",
      "[INFO] processing batch 48/188\n",
      "[INFO] processing batch 49/188\n",
      "[INFO] processing batch 50/188\n",
      "[INFO] processing batch 51/188\n",
      "[INFO] processing batch 52/188\n",
      "[INFO] processing batch 53/188\n",
      "[INFO] processing batch 54/188\n",
      "[INFO] processing batch 55/188\n",
      "[INFO] processing batch 56/188\n",
      "[INFO] processing batch 57/188\n",
      "[INFO] processing batch 58/188\n",
      "[INFO] processing batch 59/188\n",
      "[INFO] processing batch 60/188\n",
      "[INFO] processing batch 61/188\n",
      "[INFO] processing batch 62/188\n",
      "[INFO] processing batch 63/188\n",
      "[INFO] processing batch 64/188\n",
      "[INFO] processing batch 65/188\n",
      "[INFO] processing batch 66/188\n",
      "[INFO] processing batch 67/188\n",
      "[INFO] processing batch 68/188\n",
      "[INFO] processing batch 69/188\n",
      "[INFO] processing batch 70/188\n",
      "[INFO] processing batch 71/188\n",
      "[INFO] processing batch 72/188\n",
      "[INFO] processing batch 73/188\n",
      "[INFO] processing batch 74/188\n",
      "[INFO] processing batch 75/188\n",
      "[INFO] processing batch 76/188\n",
      "[INFO] processing batch 77/188\n",
      "[INFO] processing batch 78/188\n",
      "[INFO] processing batch 79/188\n",
      "[INFO] processing batch 80/188\n",
      "[INFO] processing batch 81/188\n",
      "[INFO] processing batch 82/188\n",
      "[INFO] processing batch 83/188\n",
      "[INFO] processing batch 84/188\n",
      "[INFO] processing batch 85/188\n",
      "[INFO] processing batch 86/188\n",
      "[INFO] processing batch 87/188\n",
      "[INFO] processing batch 88/188\n",
      "[INFO] processing batch 89/188\n",
      "[INFO] processing batch 90/188\n",
      "[INFO] processing batch 91/188\n",
      "[INFO] processing batch 92/188\n",
      "[INFO] processing batch 93/188\n",
      "[INFO] processing batch 94/188\n",
      "[INFO] processing batch 95/188\n",
      "[INFO] processing batch 96/188\n",
      "[INFO] processing batch 97/188\n",
      "[INFO] processing batch 98/188\n",
      "[INFO] processing batch 99/188\n",
      "[INFO] processing batch 100/188\n",
      "[INFO] processing batch 101/188\n",
      "[INFO] processing batch 102/188\n",
      "[INFO] processing batch 103/188\n",
      "[INFO] processing batch 104/188\n",
      "[INFO] processing batch 105/188\n",
      "[INFO] processing batch 106/188\n",
      "[INFO] processing batch 107/188\n",
      "[INFO] processing batch 108/188\n",
      "[INFO] processing batch 109/188\n",
      "[INFO] processing batch 110/188\n",
      "[INFO] processing batch 111/188\n",
      "[INFO] processing batch 112/188\n",
      "[INFO] processing batch 113/188\n",
      "[INFO] processing batch 114/188\n",
      "[INFO] processing batch 115/188\n",
      "[INFO] processing batch 116/188\n",
      "[INFO] processing batch 117/188\n",
      "[INFO] processing batch 118/188\n",
      "[INFO] processing batch 119/188\n",
      "[INFO] processing batch 120/188\n",
      "[INFO] processing batch 121/188\n",
      "[INFO] processing batch 122/188\n",
      "[INFO] processing batch 123/188\n",
      "[INFO] processing batch 124/188\n",
      "[INFO] processing batch 125/188\n",
      "[INFO] processing batch 126/188\n",
      "[INFO] processing batch 127/188\n",
      "[INFO] processing batch 128/188\n",
      "[INFO] processing batch 129/188\n",
      "[INFO] processing batch 130/188\n",
      "[INFO] processing batch 131/188\n",
      "[INFO] processing batch 132/188\n",
      "[INFO] processing batch 133/188\n",
      "[INFO] processing batch 134/188\n",
      "[INFO] processing batch 135/188\n",
      "[INFO] processing batch 136/188\n",
      "[INFO] processing batch 137/188\n",
      "[INFO] processing batch 138/188\n",
      "[INFO] processing batch 139/188\n",
      "[INFO] processing batch 140/188\n",
      "[INFO] processing batch 141/188\n",
      "[INFO] processing batch 142/188\n",
      "[INFO] processing batch 143/188\n",
      "[INFO] processing batch 144/188\n",
      "[INFO] processing batch 145/188\n",
      "[INFO] processing batch 146/188\n",
      "[INFO] processing batch 147/188\n",
      "[INFO] processing batch 148/188\n",
      "[INFO] processing batch 149/188\n",
      "[INFO] processing batch 150/188\n",
      "[INFO] processing batch 151/188\n",
      "[INFO] processing batch 152/188\n",
      "[INFO] processing batch 153/188\n",
      "[INFO] processing batch 154/188\n",
      "[INFO] processing batch 155/188\n",
      "[INFO] processing batch 156/188\n",
      "[INFO] processing batch 157/188\n",
      "[INFO] processing batch 158/188\n",
      "[INFO] processing batch 159/188\n",
      "[INFO] processing batch 160/188\n",
      "[INFO] processing batch 161/188\n",
      "[INFO] processing batch 162/188\n",
      "[INFO] processing batch 163/188\n",
      "[INFO] processing batch 164/188\n",
      "[INFO] processing batch 165/188\n",
      "[INFO] processing batch 166/188\n",
      "[INFO] processing batch 167/188\n",
      "[INFO] processing batch 168/188\n",
      "[INFO] processing batch 169/188\n",
      "[INFO] processing batch 170/188\n",
      "[INFO] processing batch 171/188\n",
      "[INFO] processing batch 172/188\n",
      "[INFO] processing batch 173/188\n",
      "[INFO] processing batch 174/188\n",
      "[INFO] processing batch 175/188\n",
      "[INFO] processing batch 176/188\n",
      "[INFO] processing batch 177/188\n",
      "[INFO] processing batch 178/188\n",
      "[INFO] processing batch 179/188\n",
      "[INFO] processing batch 180/188\n",
      "[INFO] processing batch 181/188\n",
      "[INFO] processing batch 182/188\n",
      "[INFO] processing batch 183/188\n",
      "[INFO] processing batch 184/188\n",
      "[INFO] processing batch 185/188\n",
      "[INFO] processing batch 186/188\n",
      "[INFO] processing batch 187/188\n",
      "[INFO] processing batch 188/188\n",
      "[INFO] preprocessing evaluation split...\n",
      "[INFO] processing batch 1/63\n",
      "[INFO] processing batch 2/63\n",
      "[INFO] processing batch 3/63\n",
      "[INFO] processing batch 4/63\n",
      "[INFO] processing batch 5/63\n",
      "[INFO] processing batch 6/63\n",
      "[INFO] processing batch 7/63\n",
      "[INFO] processing batch 8/63\n",
      "[INFO] processing batch 9/63\n",
      "[INFO] processing batch 10/63\n",
      "[INFO] processing batch 11/63\n",
      "[INFO] processing batch 12/63\n",
      "[INFO] processing batch 13/63\n",
      "[INFO] processing batch 14/63\n",
      "[INFO] processing batch 15/63\n",
      "[INFO] processing batch 16/63\n",
      "[INFO] processing batch 17/63\n",
      "[INFO] processing batch 18/63\n",
      "[INFO] processing batch 19/63\n",
      "[INFO] processing batch 20/63\n",
      "[INFO] processing batch 21/63\n",
      "[INFO] processing batch 22/63\n",
      "[INFO] processing batch 23/63\n",
      "[INFO] processing batch 24/63\n",
      "[INFO] processing batch 25/63\n",
      "[INFO] processing batch 26/63\n",
      "[INFO] processing batch 27/63\n",
      "[INFO] processing batch 28/63\n",
      "[INFO] processing batch 29/63\n",
      "[INFO] processing batch 30/63\n",
      "[INFO] processing batch 31/63\n",
      "[INFO] processing batch 32/63\n",
      "[INFO] processing batch 33/63\n",
      "[INFO] processing batch 34/63\n",
      "[INFO] processing batch 35/63\n",
      "[INFO] processing batch 36/63\n",
      "[INFO] processing batch 37/63\n",
      "[INFO] processing batch 38/63\n",
      "[INFO] processing batch 39/63\n",
      "[INFO] processing batch 40/63\n",
      "[INFO] processing batch 41/63\n",
      "[INFO] processing batch 42/63\n",
      "[INFO] processing batch 43/63\n",
      "[INFO] processing batch 44/63\n",
      "[INFO] processing batch 45/63\n",
      "[INFO] processing batch 46/63\n",
      "[INFO] processing batch 47/63\n",
      "[INFO] processing batch 48/63\n",
      "[INFO] processing batch 49/63\n",
      "[INFO] processing batch 50/63\n",
      "[INFO] processing batch 51/63\n",
      "[INFO] processing batch 52/63\n",
      "[INFO] processing batch 53/63\n",
      "[INFO] processing batch 54/63\n",
      "[INFO] processing batch 55/63\n",
      "[INFO] processing batch 56/63\n",
      "[INFO] processing batch 57/63\n",
      "[INFO] processing batch 58/63\n",
      "[INFO] processing batch 59/63\n",
      "[INFO] processing batch 60/63\n",
      "[INFO] processing batch 61/63\n",
      "[INFO] processing batch 62/63\n",
      "[INFO] processing batch 63/63\n",
      "[INFO] preprocessing validation split...\n",
      "[INFO] processing batch 1/63\n",
      "[INFO] processing batch 2/63\n",
      "[INFO] processing batch 3/63\n",
      "[INFO] processing batch 4/63\n",
      "[INFO] processing batch 5/63\n",
      "[INFO] processing batch 6/63\n",
      "[INFO] processing batch 7/63\n",
      "[INFO] processing batch 8/63\n",
      "[INFO] processing batch 9/63\n",
      "[INFO] processing batch 10/63\n"
     ]
    },
    {
     "name": "stdout",
     "output_type": "stream",
     "text": [
      "[INFO] processing batch 11/63\n",
      "[INFO] processing batch 12/63\n",
      "[INFO] processing batch 13/63\n",
      "[INFO] processing batch 14/63\n",
      "[INFO] processing batch 15/63\n",
      "[INFO] processing batch 16/63\n",
      "[INFO] processing batch 17/63\n",
      "[INFO] processing batch 18/63\n",
      "[INFO] processing batch 19/63\n",
      "[INFO] processing batch 20/63\n",
      "[INFO] processing batch 21/63\n",
      "[INFO] processing batch 22/63\n",
      "[INFO] processing batch 23/63\n",
      "[INFO] processing batch 24/63\n",
      "[INFO] processing batch 25/63\n",
      "[INFO] processing batch 26/63\n",
      "[INFO] processing batch 27/63\n",
      "[INFO] processing batch 28/63\n",
      "[INFO] processing batch 29/63\n",
      "[INFO] processing batch 30/63\n",
      "[INFO] processing batch 31/63\n",
      "[INFO] processing batch 32/63\n",
      "[INFO] processing batch 33/63\n",
      "[INFO] processing batch 34/63\n",
      "[INFO] processing batch 35/63\n",
      "[INFO] processing batch 36/63\n",
      "[INFO] processing batch 37/63\n",
      "[INFO] processing batch 38/63\n",
      "[INFO] processing batch 39/63\n",
      "[INFO] processing batch 40/63\n",
      "[INFO] processing batch 41/63\n",
      "[INFO] processing batch 42/63\n",
      "[INFO] processing batch 43/63\n",
      "[INFO] processing batch 44/63\n",
      "[INFO] processing batch 45/63\n",
      "[INFO] processing batch 46/63\n",
      "[INFO] processing batch 47/63\n",
      "[INFO] processing batch 48/63\n",
      "[INFO] processing batch 49/63\n",
      "[INFO] processing batch 50/63\n",
      "[INFO] processing batch 51/63\n",
      "[INFO] processing batch 52/63\n",
      "[INFO] processing batch 53/63\n",
      "[INFO] processing batch 54/63\n",
      "[INFO] processing batch 55/63\n",
      "[INFO] processing batch 56/63\n",
      "[INFO] processing batch 57/63\n",
      "[INFO] processing batch 58/63\n",
      "[INFO] processing batch 59/63\n",
      "[INFO] processing batch 60/63\n",
      "[INFO] processing batch 61/63\n",
      "[INFO] processing batch 62/63\n",
      "[INFO] processing batch 63/63\n"
     ]
    }
   ],
   "source": [
    "for tp in (TRAIN, TEST, VAL):\n",
    "    print(f'[INFO] preprocessing {tp} split...')\n",
    "    p = os.path.join(BASE_PATH, tp)\n",
    "    pp = [os.path.join(p, lb) for lb in CLASSES] \n",
    "    imagePaths = [os.path.join(p, f) for p in pp for f in os.listdir(p)]\n",
    "    random.shuffle(imagePaths)\n",
    "    labels = [p.split(os.path.sep)[-2] for p in imagePaths]\n",
    "\n",
    "    if le is None:\n",
    "        le = LabelEncoder()\n",
    "        le.fit(labels)\n",
    "    \n",
    "    csvPath = os.path.join(BASE_CSV_PATH, f'{tp}.csv')\n",
    "    if not os.path.exists(BASE_CSV_PATH):\n",
    "        os.makedirs(BASE_CSV_PATH)\n",
    "    csv = open(csvPath, 'w')\n",
    "    for (b, i) in enumerate(range(0, len(imagePaths), BATCH_SIZE)):\n",
    "        print(f'[INFO] processing batch {b+1}/{int(np.ceil(len(imagePaths)/BATCH_SIZE))}')\n",
    "        batchPaths = imagePaths[i:i+BATCH_SIZE]\n",
    "        batchLabels = le.transform(labels[i:i+BATCH_SIZE])\n",
    "        batchImages = []\n",
    "        for batchPath in batchPaths:\n",
    "            image = load_img(batchPath, target_size=(224, 224))\n",
    "            image = img_to_array(image)\n",
    "            image = np.expand_dims(image, axis=0)\n",
    "            image = preprocess_input(image)\n",
    "            batchImages.append(image)\n",
    "        batchImages = np.vstack(batchImages)\n",
    "        features = model.predict(batchImages, batch_size=BATCH_SIZE)\n",
    "        features = features.reshape((features.shape[0], 7*7*2048))\n",
    "        for (label, vec) in zip(batchLabels, features):\n",
    "            vec = ','.join([str(v) for v in vec])\n",
    "            csv.write(f'{label}, {vec}\\n')\n",
    "    csv.close()\n",
    "f = open(LE_PATH, 'wb')\n",
    "f.write(pickle.dumps(le))\n",
    "f.close()"
   ]
  },
  {
   "cell_type": "code",
   "execution_count": null,
   "id": "fe6c96fb",
   "metadata": {},
   "outputs": [],
   "source": []
  },
  {
   "cell_type": "code",
   "execution_count": 10,
   "id": "ec128863",
   "metadata": {},
   "outputs": [],
   "source": [
    "from sklearn.linear_model import LogisticRegression\n",
    "from sklearn.metrics import classification_report\n",
    "import pandas as pd\n"
   ]
  },
  {
   "cell_type": "code",
   "execution_count": 38,
   "id": "17f8b1a2",
   "metadata": {},
   "outputs": [],
   "source": [
    "def load_data(splitPath):\n",
    "    df = pd.read_csv(splitPath, header=None)\n",
    "    data = df.iloc[:, 1:]\n",
    "    labels = df[0]\n",
    "    return (data, labels)"
   ]
  },
  {
   "cell_type": "code",
   "execution_count": 23,
   "id": "781c09b9",
   "metadata": {},
   "outputs": [],
   "source": [
    "trainPath = os.path.join(BASE_CSV_PATH, 'training.csv')\n",
    "testPath = os.path.join(BASE_CSV_PATH, 'evaluation.csv')\n"
   ]
  },
  {
   "cell_type": "code",
   "execution_count": 39,
   "id": "f46b77d9",
   "metadata": {},
   "outputs": [],
   "source": [
    "X_train, y_train = load_data(trainPath)\n",
    "X_test, y_test = load_data(testPath)"
   ]
  },
  {
   "cell_type": "code",
   "execution_count": 29,
   "id": "90e65d6b",
   "metadata": {},
   "outputs": [],
   "source": [
    "dff = pd.read_csv(testPath, header=None)"
   ]
  },
  {
   "cell_type": "code",
   "execution_count": 30,
   "id": "66abaebf",
   "metadata": {},
   "outputs": [
    {
     "data": {
      "text/plain": [
       "(1000,)"
      ]
     },
     "execution_count": 30,
     "metadata": {},
     "output_type": "execute_result"
    }
   ],
   "source": [
    "dff[0].shape"
   ]
  },
  {
   "cell_type": "code",
   "execution_count": 37,
   "id": "4aaf3ad3",
   "metadata": {},
   "outputs": [
    {
     "data": {
      "text/plain": [
       "(1000, 25088)"
      ]
     },
     "execution_count": 37,
     "metadata": {},
     "output_type": "execute_result"
    }
   ],
   "source": [
    "dff.iloc[:,1:].shape"
   ]
  },
  {
   "cell_type": "code",
   "execution_count": 32,
   "id": "ec7ab105",
   "metadata": {},
   "outputs": [
    {
     "data": {
      "text/plain": [
       "(999, 25089)"
      ]
     },
     "execution_count": 32,
     "metadata": {},
     "output_type": "execute_result"
    }
   ],
   "source": [
    "dff[1:].shape"
   ]
  },
  {
   "cell_type": "code",
   "execution_count": 25,
   "id": "91cb16f0",
   "metadata": {},
   "outputs": [],
   "source": [
    "le = pickle.loads(open(LE_PATH, 'rb').read())"
   ]
  },
  {
   "cell_type": "code",
   "execution_count": 40,
   "id": "2f09e920",
   "metadata": {},
   "outputs": [
    {
     "name": "stdout",
     "output_type": "stream",
     "text": [
      "[INFO] training model...\n"
     ]
    },
    {
     "name": "stderr",
     "output_type": "stream",
     "text": [
      "c:\\users\\admin\\appdata\\local\\programs\\python\\python37\\lib\\site-packages\\sklearn\\linear_model\\logistic.py:947: ConvergenceWarning: lbfgs failed to converge. Increase the number of iterations.\n",
      "  \"of iterations.\", ConvergenceWarning)\n"
     ]
    },
    {
     "data": {
      "text/plain": [
       "LogisticRegression(C=1.0, class_weight=None, dual=False, fit_intercept=True,\n",
       "                   intercept_scaling=1, l1_ratio=None, max_iter=100,\n",
       "                   multi_class='warn', n_jobs=None, penalty='l2',\n",
       "                   random_state=None, solver='lbfgs', tol=0.0001, verbose=0,\n",
       "                   warm_start=False)"
      ]
     },
     "execution_count": 40,
     "metadata": {},
     "output_type": "execute_result"
    }
   ],
   "source": [
    "print(f'[INFO] training model...')\n",
    "model = LogisticRegression(solver='lbfgs')\n",
    "model.fit(X_train, y_train)"
   ]
  },
  {
   "cell_type": "code",
   "execution_count": 43,
   "id": "75478971",
   "metadata": {},
   "outputs": [
    {
     "name": "stdout",
     "output_type": "stream",
     "text": [
      "[INFO] evaluating...\n",
      "              precision    recall  f1-score   support\n",
      "\n",
      "        food       0.99      0.98      0.98       500\n",
      "    non_food       0.98      0.99      0.99       500\n",
      "\n",
      "    accuracy                           0.98      1000\n",
      "   macro avg       0.99      0.98      0.98      1000\n",
      "weighted avg       0.99      0.98      0.98      1000\n",
      "\n"
     ]
    }
   ],
   "source": [
    "print('[INFO] evaluating...')\n",
    "y_pred = model.predict(X_test)\n",
    "print(classification_report(y_test, y_pred, target_names=le.classes_))"
   ]
  },
  {
   "cell_type": "code",
   "execution_count": 44,
   "id": "4d498069",
   "metadata": {},
   "outputs": [
    {
     "name": "stdout",
     "output_type": "stream",
     "text": [
      "[INFO] saving model...\n"
     ]
    }
   ],
   "source": [
    "print('[INFO] saving model...')\n",
    "f = open(MODEL_PATH, 'wb')\n",
    "f.write(pickle.dumps(model))\n",
    "f.close()"
   ]
  },
  {
   "cell_type": "code",
   "execution_count": null,
   "id": "a139976d",
   "metadata": {},
   "outputs": [],
   "source": []
  }
 ],
 "metadata": {
  "kernelspec": {
   "display_name": "Python 3",
   "language": "python",
   "name": "python3"
  },
  "language_info": {
   "codemirror_mode": {
    "name": "ipython",
    "version": 3
   },
   "file_extension": ".py",
   "mimetype": "text/x-python",
   "name": "python",
   "nbconvert_exporter": "python",
   "pygments_lexer": "ipython3",
   "version": "3.7.9"
  }
 },
 "nbformat": 4,
 "nbformat_minor": 5
}
